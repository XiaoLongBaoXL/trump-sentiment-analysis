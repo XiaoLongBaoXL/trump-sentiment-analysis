{
 "cells": [
  {
   "cell_type": "markdown",
   "metadata": {},
   "source": [
    "# Donald Trump's tweets sentiment analysis and correlation with approval ratings"
   ]
  },
  {
   "cell_type": "markdown",
   "metadata": {},
   "source": [
    "## Research Questions\n",
    "\n",
    "1. Does the sentiment intensity of Trump’s tweets for the specific period in time correlate with approval rating changes: Is there a correlation between negative/positive tweets and corresponding fluctuations in approval rating?\n",
    "\n",
    "2. Is there a correlation between sentiment intensity of Trump’s tweets and sentiment intensity of the replies to these tweets (last 7 days): Do positive tweets get positive replies and vice versa?\n"
   ]
  },
  {
   "cell_type": "markdown",
   "metadata": {},
   "source": [
    "## Imports and API initialization"
   ]
  },
  {
   "cell_type": "code",
   "execution_count": 38,
   "metadata": {},
   "outputs": [],
   "source": [
    "import tweepy\n",
    "from vaderSentiment.vaderSentiment import SentimentIntensityAnalyzer\n",
    "import pandas as pd\n",
    "import matplotlib.pyplot as plt\n",
    "import seaborn as sns\n",
    "sns.set(style='whitegrid', palette='Set2', font_scale=1.4, rc={\"figure.figsize\": [12, 8]})\n",
    "import numpy as np\n",
    "import datetime, json, logging, os, re, math\n",
    "import preprocessor as pre\n",
    "from nltk.corpus import stopwords\n",
    "stop_words = set(stopwords.words('english'))\n",
    "from nltk import word_tokenize\n",
    "import spacy, en_core_web_sm\n",
    "nlp = en_core_web_sm.load()\n",
    "from collections import Counter"
   ]
  },
  {
   "cell_type": "code",
   "execution_count": 3,
   "metadata": {},
   "outputs": [],
   "source": [
    "logging.basicConfig(filename='logfile.log', level=logging.DEBUG, \n",
    "                    format='%(asctime)s - %(name)s - %(levelname)s - %(message)s')\n",
    "\n",
    "name = 'realDonaldTrump'\n",
    "\n",
    "# dates range to collect tweets\n",
    "start_date = datetime.datetime(2018, 12, 18, 0, 0, 0)\n",
    "end_date = datetime.datetime(2019, 2, 22, 0, 0, 0)\n",
    "\n",
    "consumer_key = '5NTdgEYyu0ikbduFxjPJconG0'\n",
    "consumer_secret = 'RhoB2yyWl8L6mS3EmSEzCoMGlPsMX1z3XKQ0j2MXAagHwzU6yU'\n",
    "\n",
    "oauth_token = '4227898119-lQpkWMTn4mUPxNX9kPpoHbWlRJsmjsAzPwUHyZ8'\n",
    "oauth_token_secret = 'hp9Ga2IuDfPMGV2j56EfddLmaIrTP7BbgIWcurOXVaVY7'\n",
    "\n",
    "auth = tweepy.OAuthHandler(consumer_key, consumer_secret)\n",
    "auth.set_access_token(oauth_token, oauth_token_secret)\n",
    "\n",
    "# the are rate limits for the frequency of API calls for twitter, \n",
    "# wait_on_rate_limit flag helps us not to worry about it while collecting the data\n",
    "api = tweepy.API(auth, wait_on_rate_limit=True, wait_on_rate_limit_notify=True)"
   ]
  },
  {
   "cell_type": "code",
   "execution_count": 4,
   "metadata": {},
   "outputs": [
    {
     "name": "stdout",
     "output_type": "stream",
     "text": [
      "Andrei\n"
     ]
    }
   ],
   "source": [
    "print(api.me().name)"
   ]
  },
  {
   "cell_type": "markdown",
   "metadata": {},
   "source": [
    "## Tweets collection\n",
    "\n",
    "Now we collect the Trumps tweets from the specified date range. If already collected, read from file"
   ]
  },
  {
   "cell_type": "code",
   "execution_count": 5,
   "metadata": {},
   "outputs": [],
   "source": [
    "def collect_tweets(tweets, file):\n",
    "    \"\"\"\n",
    "    collect all tweets for the specified account and time range,\n",
    "    save results to file\n",
    "    \n",
    "    \"\"\"\n",
    "    tweets_temp = api.user_timeline(\n",
    "        screen_name=name,\n",
    "        count=200,\n",
    "        include_rts='false',\n",
    "        tweet_mode='extended')\n",
    "    for tweet in tweets_temp:\n",
    "        if tweet.created_at < end_date and tweet.created_at > start_date:\n",
    "            tweets.append(tweet._json)\n",
    "\n",
    "    while (tweets_temp[-1].created_at > start_date):\n",
    "        tweets_temp = api.user_timeline(\n",
    "            screen_name=name,\n",
    "            count=200,\n",
    "            max_id=tweets_temp[-1].id,\n",
    "            include_rts='false',\n",
    "            tweet_mode='extended')\n",
    "        for tweet in tweets_temp:\n",
    "            if tweet.created_at < end_date and tweet.created_at > start_date:\n",
    "                tweets.append(tweet._json)\n",
    "\n",
    "    json.dump(tweets, file, indent=2)"
   ]
  },
  {
   "cell_type": "code",
   "execution_count": 6,
   "metadata": {},
   "outputs": [
    {
     "name": "stdout",
     "output_type": "stream",
     "text": [
      "CPU times: user 94.8 ms, sys: 5.98 ms, total: 101 ms\n",
      "Wall time: 105 ms\n"
     ]
    }
   ],
   "source": [
    "%%time\n",
    "if os.path.isfile('tweets.json') and not os.stat('tweets.json').st_size == 0:\n",
    "    logging.info('File tweets.json already exists! Reading the file..')\n",
    "    file = open('tweets.json', 'r', encoding='utf8')\n",
    "    tweets = json.load(file)\n",
    "    file.close()\n",
    "else:\n",
    "    logging.info('Creating tweets.json, collecting tweets..')\n",
    "    file = open('tweets.json', 'w', encoding='utf8')\n",
    "    tweets = []\n",
    "    collect_tweets(tweets, file)\n",
    "    file.close()"
   ]
  },
  {
   "cell_type": "markdown",
   "metadata": {},
   "source": [
    "Create dataframe to store and process the data "
   ]
  },
  {
   "cell_type": "code",
   "execution_count": 7,
   "metadata": {},
   "outputs": [
    {
     "data": {
      "text/html": [
       "<div>\n",
       "<style scoped>\n",
       "    .dataframe tbody tr th:only-of-type {\n",
       "        vertical-align: middle;\n",
       "    }\n",
       "\n",
       "    .dataframe tbody tr th {\n",
       "        vertical-align: top;\n",
       "    }\n",
       "\n",
       "    .dataframe thead th {\n",
       "        text-align: right;\n",
       "    }\n",
       "</style>\n",
       "<table border=\"1\" class=\"dataframe\">\n",
       "  <thead>\n",
       "    <tr style=\"text-align: right;\">\n",
       "      <th></th>\n",
       "      <th>Text</th>\n",
       "    </tr>\n",
       "  </thead>\n",
       "  <tbody>\n",
       "    <tr>\n",
       "      <th>0</th>\n",
       "      <td>Senator John Cornyn has done an outstanding jo...</td>\n",
       "    </tr>\n",
       "    <tr>\n",
       "      <th>1</th>\n",
       "      <td>.@JussieSmollett - what about MAGA and the ten...</td>\n",
       "    </tr>\n",
       "    <tr>\n",
       "      <th>2</th>\n",
       "      <td>THE WALL IS UNDER CONSTRUCTION RIGHT NOW! http...</td>\n",
       "    </tr>\n",
       "    <tr>\n",
       "      <th>3</th>\n",
       "      <td>....something that is so obviously the future....</td>\n",
       "    </tr>\n",
       "    <tr>\n",
       "      <th>4</th>\n",
       "      <td>I want 5G, and even 6G, technology in the Unit...</td>\n",
       "    </tr>\n",
       "    <tr>\n",
       "      <th>5</th>\n",
       "      <td>I have instructed Secretary of State Mike Pomp...</td>\n",
       "    </tr>\n",
       "    <tr>\n",
       "      <th>6</th>\n",
       "      <td>We have just built this powerful Wall in New M...</td>\n",
       "    </tr>\n",
       "    <tr>\n",
       "      <th>7</th>\n",
       "      <td>California now wants to scale back their alrea...</td>\n",
       "    </tr>\n",
       "    <tr>\n",
       "      <th>8</th>\n",
       "      <td>The New York Times reporting is false. They ar...</td>\n",
       "    </tr>\n",
       "    <tr>\n",
       "      <th>9</th>\n",
       "      <td>“If thinking that James Comey is not a good FB...</td>\n",
       "    </tr>\n",
       "  </tbody>\n",
       "</table>\n",
       "</div>"
      ],
      "text/plain": [
       "                                                Text\n",
       "0  Senator John Cornyn has done an outstanding jo...\n",
       "1  .@JussieSmollett - what about MAGA and the ten...\n",
       "2  THE WALL IS UNDER CONSTRUCTION RIGHT NOW! http...\n",
       "3  ....something that is so obviously the future....\n",
       "4  I want 5G, and even 6G, technology in the Unit...\n",
       "5  I have instructed Secretary of State Mike Pomp...\n",
       "6  We have just built this powerful Wall in New M...\n",
       "7  California now wants to scale back their alrea...\n",
       "8  The New York Times reporting is false. They ar...\n",
       "9  “If thinking that James Comey is not a good FB..."
      ]
     },
     "execution_count": 7,
     "metadata": {},
     "output_type": "execute_result"
    }
   ],
   "source": [
    "df = pd.DataFrame(data=[tweet['full_text'] for tweet in tweets], columns=['Text'])\n",
    "df.head(10)"
   ]
  },
  {
   "cell_type": "markdown",
   "metadata": {},
   "source": [
    "Let's see what attributes available for each tweet object"
   ]
  },
  {
   "cell_type": "code",
   "execution_count": 8,
   "metadata": {},
   "outputs": [
    {
     "name": "stdout",
     "output_type": "stream",
     "text": [
      "id: 1098676390780719104\n",
      "date: Thu Feb 21 20:10:38 +0000 2019\n",
      "likes: 101024\n",
      "retweets: 21110\n",
      "{'hashtags': [], 'symbols': [], 'user_mentions': [], 'urls': []}\n"
     ]
    }
   ],
   "source": [
    "print('id:',tweets[0]['id'])\n",
    "print('date:',tweets[0]['created_at'])\n",
    "print('likes:',tweets[0]['favorite_count'])\n",
    "print('retweets:',tweets[0]['retweet_count'])\n",
    "print(tweets[0]['entities'])"
   ]
  },
  {
   "cell_type": "markdown",
   "metadata": {},
   "source": [
    "Now let's add interesting attributes to the dataframe"
   ]
  },
  {
   "cell_type": "code",
   "execution_count": 9,
   "metadata": {},
   "outputs": [
    {
     "data": {
      "text/html": [
       "<div>\n",
       "<style scoped>\n",
       "    .dataframe tbody tr th:only-of-type {\n",
       "        vertical-align: middle;\n",
       "    }\n",
       "\n",
       "    .dataframe tbody tr th {\n",
       "        vertical-align: top;\n",
       "    }\n",
       "\n",
       "    .dataframe thead th {\n",
       "        text-align: right;\n",
       "    }\n",
       "</style>\n",
       "<table border=\"1\" class=\"dataframe\">\n",
       "  <thead>\n",
       "    <tr style=\"text-align: right;\">\n",
       "      <th></th>\n",
       "      <th>Text</th>\n",
       "      <th>len</th>\n",
       "      <th>id</th>\n",
       "      <th>Date</th>\n",
       "      <th>Likes</th>\n",
       "      <th>RTs</th>\n",
       "    </tr>\n",
       "  </thead>\n",
       "  <tbody>\n",
       "    <tr>\n",
       "      <th>0</th>\n",
       "      <td>Senator John Cornyn has done an outstanding jo...</td>\n",
       "      <td>231</td>\n",
       "      <td>1098676390780719104</td>\n",
       "      <td>2019-02-21</td>\n",
       "      <td>101024</td>\n",
       "      <td>21110</td>\n",
       "    </tr>\n",
       "    <tr>\n",
       "      <th>1</th>\n",
       "      <td>.@JussieSmollett - what about MAGA and the ten...</td>\n",
       "      <td>130</td>\n",
       "      <td>1098615818512941057</td>\n",
       "      <td>2019-02-21</td>\n",
       "      <td>222426</td>\n",
       "      <td>56149</td>\n",
       "    </tr>\n",
       "    <tr>\n",
       "      <th>2</th>\n",
       "      <td>THE WALL IS UNDER CONSTRUCTION RIGHT NOW! http...</td>\n",
       "      <td>65</td>\n",
       "      <td>1098587583469228037</td>\n",
       "      <td>2019-02-21</td>\n",
       "      <td>134130</td>\n",
       "      <td>31597</td>\n",
       "    </tr>\n",
       "    <tr>\n",
       "      <th>3</th>\n",
       "      <td>....something that is so obviously the future....</td>\n",
       "      <td>274</td>\n",
       "      <td>1098583029713420288</td>\n",
       "      <td>2019-02-21</td>\n",
       "      <td>125867</td>\n",
       "      <td>23394</td>\n",
       "    </tr>\n",
       "    <tr>\n",
       "      <th>4</th>\n",
       "      <td>I want 5G, and even 6G, technology in the Unit...</td>\n",
       "      <td>279</td>\n",
       "      <td>1098581869233344512</td>\n",
       "      <td>2019-02-21</td>\n",
       "      <td>143746</td>\n",
       "      <td>28589</td>\n",
       "    </tr>\n",
       "  </tbody>\n",
       "</table>\n",
       "</div>"
      ],
      "text/plain": [
       "                                                Text  len  \\\n",
       "0  Senator John Cornyn has done an outstanding jo...  231   \n",
       "1  .@JussieSmollett - what about MAGA and the ten...  130   \n",
       "2  THE WALL IS UNDER CONSTRUCTION RIGHT NOW! http...   65   \n",
       "3  ....something that is so obviously the future....  274   \n",
       "4  I want 5G, and even 6G, technology in the Unit...  279   \n",
       "\n",
       "                    id       Date   Likes    RTs  \n",
       "0  1098676390780719104 2019-02-21  101024  21110  \n",
       "1  1098615818512941057 2019-02-21  222426  56149  \n",
       "2  1098587583469228037 2019-02-21  134130  31597  \n",
       "3  1098583029713420288 2019-02-21  125867  23394  \n",
       "4  1098581869233344512 2019-02-21  143746  28589  "
      ]
     },
     "execution_count": 9,
     "metadata": {},
     "output_type": "execute_result"
    }
   ],
   "source": [
    "df['len'] = np.array([len(tweet['full_text']) for tweet in tweets])\n",
    "df['id'] = np.array([tweet['id'] for tweet in tweets])\n",
    "df['Date'] = pd.DatetimeIndex(pd.to_datetime([tweet['created_at'] for tweet in tweets])).normalize()\n",
    "df['Likes'] = np.array([tweet['favorite_count'] for tweet in tweets])\n",
    "df['RTs'] = np.array([tweet['retweet_count'] for tweet in tweets])\n",
    "df.head()"
   ]
  },
  {
   "cell_type": "code",
   "execution_count": 10,
   "metadata": {},
   "outputs": [
    {
     "data": {
      "text/plain": [
       "(Timestamp('2018-12-18 00:00:00'), Timestamp('2019-02-21 00:00:00'))"
      ]
     },
     "execution_count": 10,
     "metadata": {},
     "output_type": "execute_result"
    }
   ],
   "source": [
    "min(df.Date), max(df.Date)"
   ]
  },
  {
   "cell_type": "code",
   "execution_count": 11,
   "metadata": {},
   "outputs": [
    {
     "data": {
      "text/plain": [
       "(561, 6)"
      ]
     },
     "execution_count": 11,
     "metadata": {},
     "output_type": "execute_result"
    }
   ],
   "source": [
    "df.shape"
   ]
  },
  {
   "cell_type": "markdown",
   "metadata": {},
   "source": [
    "## Natural Language Processing\n"
   ]
  },
  {
   "cell_type": "markdown",
   "metadata": {},
   "source": [
    "### Data preprocessing\n",
    "\n",
    "Now lets do some preprocessing to prepare it for the entities extraction"
   ]
  },
  {
   "cell_type": "code",
   "execution_count": 12,
   "metadata": {},
   "outputs": [],
   "source": [
    "# remove @user mentions, # hashtag symbol, URLs, emoji etc.\n",
    "# check the package documentation for info\n",
    "# pre.set_options(pre.OPT.URL, pre.OPT.EMOJI, pre.OPT.MENTION, pre.OPT.RESERVED, pre.OPT.SMILEY, pre.OPT.NUMBER)\n",
    "text_processed = df['Text'].apply(lambda s: pre.clean(s))\n",
    "\n",
    "# removing all non alpha-numeric symbols\n",
    "text_processed = text_processed.apply(lambda s: re.sub(r'[^A-Za-z0-9 ]', '', s))\n",
    "\n",
    "# removing stop words\n",
    "text_processed = text_processed.apply(\n",
    "    lambda s: ' '.join(word for word in s.split() if word not in stop_words))\n"
   ]
  },
  {
   "cell_type": "code",
   "execution_count": 13,
   "metadata": {},
   "outputs": [
    {
     "name": "stdout",
     "output_type": "stream",
     "text": [
      "Before:\n",
      "We are here to proclaim that a new day is coming in Latin America. In Venezuela and across the Western Hemisphere, Socialism is DYING - and liberty, prosperity, and democracy are being REBORN...https://t.co/hPL5W48Pmg\n",
      "\n",
      "After:\n",
      "We proclaim new day coming Latin America In Venezuela across Western Hemisphere Socialism DYING liberty prosperity democracy REBORN\n"
     ]
    }
   ],
   "source": [
    "print('Before:\\n' + df['Text'][29] + '\\n\\nAfter:\\n' + text_processed[29])"
   ]
  },
  {
   "cell_type": "markdown",
   "metadata": {},
   "source": [
    "## Entities extraction\n",
    "Now after cleaning the data we can extract entities using SpaCy and NLTK and add it to the dataframe\n",
    "\n",
    "To see the transcription for the entities codes check the SpaCy documentation"
   ]
  },
  {
   "cell_type": "code",
   "execution_count": 14,
   "metadata": {},
   "outputs": [],
   "source": [
    "def get_entities(text):\n",
    "    \"\"\"\n",
    "    Extract counts for each entity found in input text\n",
    "    \"\"\"\n",
    "    return dict(Counter([s.label_ for s in nlp(text).ents]))"
   ]
  },
  {
   "cell_type": "code",
   "execution_count": 15,
   "metadata": {},
   "outputs": [
    {
     "name": "stdout",
     "output_type": "stream",
     "text": [
      "CPU times: user 10.2 s, sys: 106 ms, total: 10.3 s\n",
      "Wall time: 5.36 s\n"
     ]
    }
   ],
   "source": [
    "%%time\n",
    "entities = text_processed.apply(lambda s: get_entities(s))\n",
    "entities = entities.apply(pd.Series)"
   ]
  },
  {
   "cell_type": "code",
   "execution_count": 16,
   "metadata": {},
   "outputs": [
    {
     "data": {
      "text/html": [
       "<div>\n",
       "<style scoped>\n",
       "    .dataframe tbody tr th:only-of-type {\n",
       "        vertical-align: middle;\n",
       "    }\n",
       "\n",
       "    .dataframe tbody tr th {\n",
       "        vertical-align: top;\n",
       "    }\n",
       "\n",
       "    .dataframe thead th {\n",
       "        text-align: right;\n",
       "    }\n",
       "</style>\n",
       "<table border=\"1\" class=\"dataframe\">\n",
       "  <thead>\n",
       "    <tr style=\"text-align: right;\">\n",
       "      <th></th>\n",
       "      <th>Text</th>\n",
       "      <th>len</th>\n",
       "      <th>id</th>\n",
       "      <th>Date</th>\n",
       "      <th>Likes</th>\n",
       "      <th>RTs</th>\n",
       "      <th>PERSON</th>\n",
       "      <th>GPE</th>\n",
       "      <th>CARDINAL</th>\n",
       "      <th>NORP</th>\n",
       "      <th>...</th>\n",
       "      <th>MONEY</th>\n",
       "      <th>ORDINAL</th>\n",
       "      <th>LOC</th>\n",
       "      <th>PRODUCT</th>\n",
       "      <th>TIME</th>\n",
       "      <th>LAW</th>\n",
       "      <th>EVENT</th>\n",
       "      <th>WORK_OF_ART</th>\n",
       "      <th>FAC</th>\n",
       "      <th>QUANTITY</th>\n",
       "    </tr>\n",
       "  </thead>\n",
       "  <tbody>\n",
       "    <tr>\n",
       "      <th>0</th>\n",
       "      <td>Senator John Cornyn has done an outstanding jo...</td>\n",
       "      <td>231</td>\n",
       "      <td>1098676390780719104</td>\n",
       "      <td>2019-02-21</td>\n",
       "      <td>101024</td>\n",
       "      <td>21110</td>\n",
       "      <td>2.0</td>\n",
       "      <td>1.0</td>\n",
       "      <td>NaN</td>\n",
       "      <td>NaN</td>\n",
       "      <td>...</td>\n",
       "      <td>NaN</td>\n",
       "      <td>NaN</td>\n",
       "      <td>NaN</td>\n",
       "      <td>NaN</td>\n",
       "      <td>NaN</td>\n",
       "      <td>NaN</td>\n",
       "      <td>NaN</td>\n",
       "      <td>NaN</td>\n",
       "      <td>NaN</td>\n",
       "      <td>NaN</td>\n",
       "    </tr>\n",
       "    <tr>\n",
       "      <th>1</th>\n",
       "      <td>.@JussieSmollett - what about MAGA and the ten...</td>\n",
       "      <td>130</td>\n",
       "      <td>1098615818512941057</td>\n",
       "      <td>2019-02-21</td>\n",
       "      <td>222426</td>\n",
       "      <td>56149</td>\n",
       "      <td>NaN</td>\n",
       "      <td>1.0</td>\n",
       "      <td>1.0</td>\n",
       "      <td>NaN</td>\n",
       "      <td>...</td>\n",
       "      <td>NaN</td>\n",
       "      <td>NaN</td>\n",
       "      <td>NaN</td>\n",
       "      <td>NaN</td>\n",
       "      <td>NaN</td>\n",
       "      <td>NaN</td>\n",
       "      <td>NaN</td>\n",
       "      <td>NaN</td>\n",
       "      <td>NaN</td>\n",
       "      <td>NaN</td>\n",
       "    </tr>\n",
       "    <tr>\n",
       "      <th>2</th>\n",
       "      <td>THE WALL IS UNDER CONSTRUCTION RIGHT NOW! http...</td>\n",
       "      <td>65</td>\n",
       "      <td>1098587583469228037</td>\n",
       "      <td>2019-02-21</td>\n",
       "      <td>134130</td>\n",
       "      <td>31597</td>\n",
       "      <td>NaN</td>\n",
       "      <td>NaN</td>\n",
       "      <td>NaN</td>\n",
       "      <td>NaN</td>\n",
       "      <td>...</td>\n",
       "      <td>NaN</td>\n",
       "      <td>NaN</td>\n",
       "      <td>NaN</td>\n",
       "      <td>NaN</td>\n",
       "      <td>NaN</td>\n",
       "      <td>NaN</td>\n",
       "      <td>NaN</td>\n",
       "      <td>NaN</td>\n",
       "      <td>NaN</td>\n",
       "      <td>NaN</td>\n",
       "    </tr>\n",
       "    <tr>\n",
       "      <th>3</th>\n",
       "      <td>....something that is so obviously the future....</td>\n",
       "      <td>274</td>\n",
       "      <td>1098583029713420288</td>\n",
       "      <td>2019-02-21</td>\n",
       "      <td>125867</td>\n",
       "      <td>23394</td>\n",
       "      <td>NaN</td>\n",
       "      <td>1.0</td>\n",
       "      <td>NaN</td>\n",
       "      <td>NaN</td>\n",
       "      <td>...</td>\n",
       "      <td>NaN</td>\n",
       "      <td>NaN</td>\n",
       "      <td>NaN</td>\n",
       "      <td>NaN</td>\n",
       "      <td>NaN</td>\n",
       "      <td>NaN</td>\n",
       "      <td>NaN</td>\n",
       "      <td>NaN</td>\n",
       "      <td>NaN</td>\n",
       "      <td>NaN</td>\n",
       "    </tr>\n",
       "    <tr>\n",
       "      <th>4</th>\n",
       "      <td>I want 5G, and even 6G, technology in the Unit...</td>\n",
       "      <td>279</td>\n",
       "      <td>1098581869233344512</td>\n",
       "      <td>2019-02-21</td>\n",
       "      <td>143746</td>\n",
       "      <td>28589</td>\n",
       "      <td>NaN</td>\n",
       "      <td>1.0</td>\n",
       "      <td>NaN</td>\n",
       "      <td>1.0</td>\n",
       "      <td>...</td>\n",
       "      <td>NaN</td>\n",
       "      <td>NaN</td>\n",
       "      <td>NaN</td>\n",
       "      <td>NaN</td>\n",
       "      <td>NaN</td>\n",
       "      <td>NaN</td>\n",
       "      <td>NaN</td>\n",
       "      <td>NaN</td>\n",
       "      <td>NaN</td>\n",
       "      <td>NaN</td>\n",
       "    </tr>\n",
       "  </tbody>\n",
       "</table>\n",
       "<p>5 rows × 22 columns</p>\n",
       "</div>"
      ],
      "text/plain": [
       "                                                Text  len  \\\n",
       "0  Senator John Cornyn has done an outstanding jo...  231   \n",
       "1  .@JussieSmollett - what about MAGA and the ten...  130   \n",
       "2  THE WALL IS UNDER CONSTRUCTION RIGHT NOW! http...   65   \n",
       "3  ....something that is so obviously the future....  274   \n",
       "4  I want 5G, and even 6G, technology in the Unit...  279   \n",
       "\n",
       "                    id       Date   Likes    RTs  PERSON  GPE  CARDINAL  NORP  \\\n",
       "0  1098676390780719104 2019-02-21  101024  21110     2.0  1.0       NaN   NaN   \n",
       "1  1098615818512941057 2019-02-21  222426  56149     NaN  1.0       1.0   NaN   \n",
       "2  1098587583469228037 2019-02-21  134130  31597     NaN  NaN       NaN   NaN   \n",
       "3  1098583029713420288 2019-02-21  125867  23394     NaN  1.0       NaN   NaN   \n",
       "4  1098581869233344512 2019-02-21  143746  28589     NaN  1.0       NaN   1.0   \n",
       "\n",
       "     ...     MONEY  ORDINAL  LOC  PRODUCT  TIME  LAW  EVENT  WORK_OF_ART  FAC  \\\n",
       "0    ...       NaN      NaN  NaN      NaN   NaN  NaN    NaN          NaN  NaN   \n",
       "1    ...       NaN      NaN  NaN      NaN   NaN  NaN    NaN          NaN  NaN   \n",
       "2    ...       NaN      NaN  NaN      NaN   NaN  NaN    NaN          NaN  NaN   \n",
       "3    ...       NaN      NaN  NaN      NaN   NaN  NaN    NaN          NaN  NaN   \n",
       "4    ...       NaN      NaN  NaN      NaN   NaN  NaN    NaN          NaN  NaN   \n",
       "\n",
       "   QUANTITY  \n",
       "0       NaN  \n",
       "1       NaN  \n",
       "2       NaN  \n",
       "3       NaN  \n",
       "4       NaN  \n",
       "\n",
       "[5 rows x 22 columns]"
      ]
     },
     "execution_count": 16,
     "metadata": {},
     "output_type": "execute_result"
    }
   ],
   "source": [
    "df = pd.concat([df, entities], axis=1)\n",
    "df.head()"
   ]
  },
  {
   "cell_type": "code",
   "execution_count": 119,
   "metadata": {},
   "outputs": [
    {
     "ename": "TypeError",
     "evalue": "float() argument must be a string or a number, not 'dict'",
     "output_type": "error",
     "traceback": [
      "\u001b[0;31m---------------------------------------------------------------------------\u001b[0m",
      "\u001b[0;31mTypeError\u001b[0m                                 Traceback (most recent call last)",
      "\u001b[0;32m<ipython-input-119-35891d17cc35>\u001b[0m in \u001b[0;36m<module>\u001b[0;34m\u001b[0m\n\u001b[1;32m      4\u001b[0m     \u001b[0mcounters\u001b[0m\u001b[0;34m.\u001b[0m\u001b[0mappend\u001b[0m\u001b[0;34m(\u001b[0m\u001b[0;34m{\u001b[0m\u001b[0mcolumn\u001b[0m\u001b[0;34m:\u001b[0m \u001b[0mdf\u001b[0m\u001b[0;34m[\u001b[0m\u001b[0mcolumn\u001b[0m\u001b[0;34m]\u001b[0m\u001b[0;34m.\u001b[0m\u001b[0msum\u001b[0m\u001b[0;34m(\u001b[0m\u001b[0;34m)\u001b[0m\u001b[0;34m}\u001b[0m\u001b[0;34m)\u001b[0m\u001b[0;34m\u001b[0m\u001b[0;34m\u001b[0m\u001b[0m\n\u001b[1;32m      5\u001b[0m \u001b[0;34m\u001b[0m\u001b[0m\n\u001b[0;32m----> 6\u001b[0;31m \u001b[0mplt\u001b[0m\u001b[0;34m.\u001b[0m\u001b[0mplot\u001b[0m\u001b[0;34m(\u001b[0m\u001b[0mcounters\u001b[0m\u001b[0;34m)\u001b[0m\u001b[0;34m\u001b[0m\u001b[0;34m\u001b[0m\u001b[0m\n\u001b[0m",
      "\u001b[0;32m/anaconda3/lib/python3.7/site-packages/matplotlib/pyplot.py\u001b[0m in \u001b[0;36mplot\u001b[0;34m(scalex, scaley, data, *args, **kwargs)\u001b[0m\n\u001b[1;32m   2811\u001b[0m     return gca().plot(\n\u001b[1;32m   2812\u001b[0m         *args, scalex=scalex, scaley=scaley, **({\"data\": data} if data\n\u001b[0;32m-> 2813\u001b[0;31m         is not None else {}), **kwargs)\n\u001b[0m\u001b[1;32m   2814\u001b[0m \u001b[0;34m\u001b[0m\u001b[0m\n\u001b[1;32m   2815\u001b[0m \u001b[0;34m\u001b[0m\u001b[0m\n",
      "\u001b[0;32m/anaconda3/lib/python3.7/site-packages/matplotlib/__init__.py\u001b[0m in \u001b[0;36minner\u001b[0;34m(ax, data, *args, **kwargs)\u001b[0m\n\u001b[1;32m   1808\u001b[0m                         \u001b[0;34m\"the Matplotlib list!)\"\u001b[0m \u001b[0;34m%\u001b[0m \u001b[0;34m(\u001b[0m\u001b[0mlabel_namer\u001b[0m\u001b[0;34m,\u001b[0m \u001b[0mfunc\u001b[0m\u001b[0;34m.\u001b[0m\u001b[0m__name__\u001b[0m\u001b[0;34m)\u001b[0m\u001b[0;34m,\u001b[0m\u001b[0;34m\u001b[0m\u001b[0;34m\u001b[0m\u001b[0m\n\u001b[1;32m   1809\u001b[0m                         RuntimeWarning, stacklevel=2)\n\u001b[0;32m-> 1810\u001b[0;31m             \u001b[0;32mreturn\u001b[0m \u001b[0mfunc\u001b[0m\u001b[0;34m(\u001b[0m\u001b[0max\u001b[0m\u001b[0;34m,\u001b[0m \u001b[0;34m*\u001b[0m\u001b[0margs\u001b[0m\u001b[0;34m,\u001b[0m \u001b[0;34m**\u001b[0m\u001b[0mkwargs\u001b[0m\u001b[0;34m)\u001b[0m\u001b[0;34m\u001b[0m\u001b[0;34m\u001b[0m\u001b[0m\n\u001b[0m\u001b[1;32m   1811\u001b[0m \u001b[0;34m\u001b[0m\u001b[0m\n\u001b[1;32m   1812\u001b[0m         inner.__doc__ = _add_data_doc(inner.__doc__,\n",
      "\u001b[0;32m/anaconda3/lib/python3.7/site-packages/matplotlib/axes/_axes.py\u001b[0m in \u001b[0;36mplot\u001b[0;34m(self, scalex, scaley, *args, **kwargs)\u001b[0m\n\u001b[1;32m   1610\u001b[0m \u001b[0;34m\u001b[0m\u001b[0m\n\u001b[1;32m   1611\u001b[0m         \u001b[0;32mfor\u001b[0m \u001b[0mline\u001b[0m \u001b[0;32min\u001b[0m \u001b[0mself\u001b[0m\u001b[0;34m.\u001b[0m\u001b[0m_get_lines\u001b[0m\u001b[0;34m(\u001b[0m\u001b[0;34m*\u001b[0m\u001b[0margs\u001b[0m\u001b[0;34m,\u001b[0m \u001b[0;34m**\u001b[0m\u001b[0mkwargs\u001b[0m\u001b[0;34m)\u001b[0m\u001b[0;34m:\u001b[0m\u001b[0;34m\u001b[0m\u001b[0;34m\u001b[0m\u001b[0m\n\u001b[0;32m-> 1612\u001b[0;31m             \u001b[0mself\u001b[0m\u001b[0;34m.\u001b[0m\u001b[0madd_line\u001b[0m\u001b[0;34m(\u001b[0m\u001b[0mline\u001b[0m\u001b[0;34m)\u001b[0m\u001b[0;34m\u001b[0m\u001b[0;34m\u001b[0m\u001b[0m\n\u001b[0m\u001b[1;32m   1613\u001b[0m             \u001b[0mlines\u001b[0m\u001b[0;34m.\u001b[0m\u001b[0mappend\u001b[0m\u001b[0;34m(\u001b[0m\u001b[0mline\u001b[0m\u001b[0;34m)\u001b[0m\u001b[0;34m\u001b[0m\u001b[0;34m\u001b[0m\u001b[0m\n\u001b[1;32m   1614\u001b[0m \u001b[0;34m\u001b[0m\u001b[0m\n",
      "\u001b[0;32m/anaconda3/lib/python3.7/site-packages/matplotlib/axes/_base.py\u001b[0m in \u001b[0;36madd_line\u001b[0;34m(self, line)\u001b[0m\n\u001b[1;32m   1893\u001b[0m             \u001b[0mline\u001b[0m\u001b[0;34m.\u001b[0m\u001b[0mset_clip_path\u001b[0m\u001b[0;34m(\u001b[0m\u001b[0mself\u001b[0m\u001b[0;34m.\u001b[0m\u001b[0mpatch\u001b[0m\u001b[0;34m)\u001b[0m\u001b[0;34m\u001b[0m\u001b[0;34m\u001b[0m\u001b[0m\n\u001b[1;32m   1894\u001b[0m \u001b[0;34m\u001b[0m\u001b[0m\n\u001b[0;32m-> 1895\u001b[0;31m         \u001b[0mself\u001b[0m\u001b[0;34m.\u001b[0m\u001b[0m_update_line_limits\u001b[0m\u001b[0;34m(\u001b[0m\u001b[0mline\u001b[0m\u001b[0;34m)\u001b[0m\u001b[0;34m\u001b[0m\u001b[0;34m\u001b[0m\u001b[0m\n\u001b[0m\u001b[1;32m   1896\u001b[0m         \u001b[0;32mif\u001b[0m \u001b[0;32mnot\u001b[0m \u001b[0mline\u001b[0m\u001b[0;34m.\u001b[0m\u001b[0mget_label\u001b[0m\u001b[0;34m(\u001b[0m\u001b[0;34m)\u001b[0m\u001b[0;34m:\u001b[0m\u001b[0;34m\u001b[0m\u001b[0;34m\u001b[0m\u001b[0m\n\u001b[1;32m   1897\u001b[0m             \u001b[0mline\u001b[0m\u001b[0;34m.\u001b[0m\u001b[0mset_label\u001b[0m\u001b[0;34m(\u001b[0m\u001b[0;34m'_line%d'\u001b[0m \u001b[0;34m%\u001b[0m \u001b[0mlen\u001b[0m\u001b[0;34m(\u001b[0m\u001b[0mself\u001b[0m\u001b[0;34m.\u001b[0m\u001b[0mlines\u001b[0m\u001b[0;34m)\u001b[0m\u001b[0;34m)\u001b[0m\u001b[0;34m\u001b[0m\u001b[0;34m\u001b[0m\u001b[0m\n",
      "\u001b[0;32m/anaconda3/lib/python3.7/site-packages/matplotlib/axes/_base.py\u001b[0m in \u001b[0;36m_update_line_limits\u001b[0;34m(self, line)\u001b[0m\n\u001b[1;32m   1915\u001b[0m         \u001b[0mFigures\u001b[0m \u001b[0mout\u001b[0m \u001b[0mthe\u001b[0m \u001b[0mdata\u001b[0m \u001b[0mlimit\u001b[0m \u001b[0mof\u001b[0m \u001b[0mthe\u001b[0m \u001b[0mgiven\u001b[0m \u001b[0mline\u001b[0m\u001b[0;34m,\u001b[0m \u001b[0mupdating\u001b[0m \u001b[0mself\u001b[0m\u001b[0;34m.\u001b[0m\u001b[0mdataLim\u001b[0m\u001b[0;34m.\u001b[0m\u001b[0;34m\u001b[0m\u001b[0;34m\u001b[0m\u001b[0m\n\u001b[1;32m   1916\u001b[0m         \"\"\"\n\u001b[0;32m-> 1917\u001b[0;31m         \u001b[0mpath\u001b[0m \u001b[0;34m=\u001b[0m \u001b[0mline\u001b[0m\u001b[0;34m.\u001b[0m\u001b[0mget_path\u001b[0m\u001b[0;34m(\u001b[0m\u001b[0;34m)\u001b[0m\u001b[0;34m\u001b[0m\u001b[0;34m\u001b[0m\u001b[0m\n\u001b[0m\u001b[1;32m   1918\u001b[0m         \u001b[0;32mif\u001b[0m \u001b[0mpath\u001b[0m\u001b[0;34m.\u001b[0m\u001b[0mvertices\u001b[0m\u001b[0;34m.\u001b[0m\u001b[0msize\u001b[0m \u001b[0;34m==\u001b[0m \u001b[0;36m0\u001b[0m\u001b[0;34m:\u001b[0m\u001b[0;34m\u001b[0m\u001b[0;34m\u001b[0m\u001b[0m\n\u001b[1;32m   1919\u001b[0m             \u001b[0;32mreturn\u001b[0m\u001b[0;34m\u001b[0m\u001b[0;34m\u001b[0m\u001b[0m\n",
      "\u001b[0;32m/anaconda3/lib/python3.7/site-packages/matplotlib/lines.py\u001b[0m in \u001b[0;36mget_path\u001b[0;34m(self)\u001b[0m\n\u001b[1;32m    943\u001b[0m         \"\"\"\n\u001b[1;32m    944\u001b[0m         \u001b[0;32mif\u001b[0m \u001b[0mself\u001b[0m\u001b[0;34m.\u001b[0m\u001b[0m_invalidy\u001b[0m \u001b[0;32mor\u001b[0m \u001b[0mself\u001b[0m\u001b[0;34m.\u001b[0m\u001b[0m_invalidx\u001b[0m\u001b[0;34m:\u001b[0m\u001b[0;34m\u001b[0m\u001b[0;34m\u001b[0m\u001b[0m\n\u001b[0;32m--> 945\u001b[0;31m             \u001b[0mself\u001b[0m\u001b[0;34m.\u001b[0m\u001b[0mrecache\u001b[0m\u001b[0;34m(\u001b[0m\u001b[0;34m)\u001b[0m\u001b[0;34m\u001b[0m\u001b[0;34m\u001b[0m\u001b[0m\n\u001b[0m\u001b[1;32m    946\u001b[0m         \u001b[0;32mreturn\u001b[0m \u001b[0mself\u001b[0m\u001b[0;34m.\u001b[0m\u001b[0m_path\u001b[0m\u001b[0;34m\u001b[0m\u001b[0;34m\u001b[0m\u001b[0m\n\u001b[1;32m    947\u001b[0m \u001b[0;34m\u001b[0m\u001b[0m\n",
      "\u001b[0;32m/anaconda3/lib/python3.7/site-packages/matplotlib/lines.py\u001b[0m in \u001b[0;36mrecache\u001b[0;34m(self, always)\u001b[0m\n\u001b[1;32m    643\u001b[0m         \u001b[0;32mif\u001b[0m \u001b[0malways\u001b[0m \u001b[0;32mor\u001b[0m \u001b[0mself\u001b[0m\u001b[0;34m.\u001b[0m\u001b[0m_invalidy\u001b[0m\u001b[0;34m:\u001b[0m\u001b[0;34m\u001b[0m\u001b[0;34m\u001b[0m\u001b[0m\n\u001b[1;32m    644\u001b[0m             \u001b[0myconv\u001b[0m \u001b[0;34m=\u001b[0m \u001b[0mself\u001b[0m\u001b[0;34m.\u001b[0m\u001b[0mconvert_yunits\u001b[0m\u001b[0;34m(\u001b[0m\u001b[0mself\u001b[0m\u001b[0;34m.\u001b[0m\u001b[0m_yorig\u001b[0m\u001b[0;34m)\u001b[0m\u001b[0;34m\u001b[0m\u001b[0;34m\u001b[0m\u001b[0m\n\u001b[0;32m--> 645\u001b[0;31m             \u001b[0my\u001b[0m \u001b[0;34m=\u001b[0m \u001b[0m_to_unmasked_float_array\u001b[0m\u001b[0;34m(\u001b[0m\u001b[0myconv\u001b[0m\u001b[0;34m)\u001b[0m\u001b[0;34m.\u001b[0m\u001b[0mravel\u001b[0m\u001b[0;34m(\u001b[0m\u001b[0;34m)\u001b[0m\u001b[0;34m\u001b[0m\u001b[0;34m\u001b[0m\u001b[0m\n\u001b[0m\u001b[1;32m    646\u001b[0m         \u001b[0;32melse\u001b[0m\u001b[0;34m:\u001b[0m\u001b[0;34m\u001b[0m\u001b[0;34m\u001b[0m\u001b[0m\n\u001b[1;32m    647\u001b[0m             \u001b[0my\u001b[0m \u001b[0;34m=\u001b[0m \u001b[0mself\u001b[0m\u001b[0;34m.\u001b[0m\u001b[0m_y\u001b[0m\u001b[0;34m\u001b[0m\u001b[0;34m\u001b[0m\u001b[0m\n",
      "\u001b[0;32m/anaconda3/lib/python3.7/site-packages/matplotlib/cbook/__init__.py\u001b[0m in \u001b[0;36m_to_unmasked_float_array\u001b[0;34m(x)\u001b[0m\n\u001b[1;32m   1363\u001b[0m         \u001b[0;32mreturn\u001b[0m \u001b[0mnp\u001b[0m\u001b[0;34m.\u001b[0m\u001b[0mma\u001b[0m\u001b[0;34m.\u001b[0m\u001b[0masarray\u001b[0m\u001b[0;34m(\u001b[0m\u001b[0mx\u001b[0m\u001b[0;34m,\u001b[0m \u001b[0mfloat\u001b[0m\u001b[0;34m)\u001b[0m\u001b[0;34m.\u001b[0m\u001b[0mfilled\u001b[0m\u001b[0;34m(\u001b[0m\u001b[0mnp\u001b[0m\u001b[0;34m.\u001b[0m\u001b[0mnan\u001b[0m\u001b[0;34m)\u001b[0m\u001b[0;34m\u001b[0m\u001b[0;34m\u001b[0m\u001b[0m\n\u001b[1;32m   1364\u001b[0m     \u001b[0;32melse\u001b[0m\u001b[0;34m:\u001b[0m\u001b[0;34m\u001b[0m\u001b[0;34m\u001b[0m\u001b[0m\n\u001b[0;32m-> 1365\u001b[0;31m         \u001b[0;32mreturn\u001b[0m \u001b[0mnp\u001b[0m\u001b[0;34m.\u001b[0m\u001b[0masarray\u001b[0m\u001b[0;34m(\u001b[0m\u001b[0mx\u001b[0m\u001b[0;34m,\u001b[0m \u001b[0mfloat\u001b[0m\u001b[0;34m)\u001b[0m\u001b[0;34m\u001b[0m\u001b[0;34m\u001b[0m\u001b[0m\n\u001b[0m\u001b[1;32m   1366\u001b[0m \u001b[0;34m\u001b[0m\u001b[0m\n\u001b[1;32m   1367\u001b[0m \u001b[0;34m\u001b[0m\u001b[0m\n",
      "\u001b[0;32m/anaconda3/lib/python3.7/site-packages/numpy/core/numeric.py\u001b[0m in \u001b[0;36masarray\u001b[0;34m(a, dtype, order)\u001b[0m\n\u001b[1;32m    499\u001b[0m \u001b[0;34m\u001b[0m\u001b[0m\n\u001b[1;32m    500\u001b[0m     \"\"\"\n\u001b[0;32m--> 501\u001b[0;31m     \u001b[0;32mreturn\u001b[0m \u001b[0marray\u001b[0m\u001b[0;34m(\u001b[0m\u001b[0ma\u001b[0m\u001b[0;34m,\u001b[0m \u001b[0mdtype\u001b[0m\u001b[0;34m,\u001b[0m \u001b[0mcopy\u001b[0m\u001b[0;34m=\u001b[0m\u001b[0;32mFalse\u001b[0m\u001b[0;34m,\u001b[0m \u001b[0morder\u001b[0m\u001b[0;34m=\u001b[0m\u001b[0morder\u001b[0m\u001b[0;34m)\u001b[0m\u001b[0;34m\u001b[0m\u001b[0;34m\u001b[0m\u001b[0m\n\u001b[0m\u001b[1;32m    502\u001b[0m \u001b[0;34m\u001b[0m\u001b[0m\n\u001b[1;32m    503\u001b[0m \u001b[0;34m\u001b[0m\u001b[0m\n",
      "\u001b[0;31mTypeError\u001b[0m: float() argument must be a string or a number, not 'dict'"
     ]
    },
    {
     "data": {
      "image/png": "[encoded data removed]",
      "text/plain": [
       "<Figure size 864x576 with 1 Axes>"
      ]
     },
     "metadata": {},
     "output_type": "display_data"
    }
   ],
   "source": [
    "counters = []\n",
    "\n",
    "for column in entities.columns:\n",
    "    counters.append({column: df[column].sum()})\n",
    "    \n",
    "plt.plot(counters)"
   ]
  },
  {
   "cell_type": "markdown",
   "metadata": {},
   "source": [
    "## Collection of replies/comments"
   ]
  },
  {
   "cell_type": "markdown",
   "metadata": {},
   "source": [
    "Now as we collected all Trump's tweets for the desired period, we can loop through them and actually collect people's reactions by getting the replies to these tweets"
   ]
  },
  {
   "cell_type": "code",
   "execution_count": null,
   "metadata": {},
   "outputs": [],
   "source": [
    "def collect_replies(tweets, file):\n",
    "    \"\"\"\n",
    "    collect replies for all the collected tweets of the specified account,\n",
    "    query gets 100 replies per page, 10 pages give 1000 replies in total,\n",
    "    then compares with desired parameters,\n",
    "    finally saves results to file.\n",
    "    \n",
    "    \"\"\"\n",
    "    for tweet in tweets:\n",
    "        for page in tweepy.Cursor(\n",
    "                api.search,\n",
    "                # filter tweets by replies to @name and exclude retweets\n",
    "                q='to:' + name + ' -filter:retweets',\n",
    "                since_id=tweet['id'],\n",
    "                count=100,\n",
    "                # specifiy what type of search results you would prefer to receive.\n",
    "                # default is \"mixed\"\n",
    "                result_type='mixed',\n",
    "                tweet_mode='extended').pages(10):\n",
    "            for status in page:\n",
    "                if hasattr(status, 'in_reply_to_status_id_str'):\n",
    "                    logging.info('Found a reply to the tweet with id=',\n",
    "                                 status.in_reply_to_status_id_str,\n",
    "                                 'text=' + status.text)\n",
    "                    replies.append(status._json)\n",
    "                    logging.info('Reply added to the list. Continue...')\n",
    "\n",
    "    json.dump(replies, file, indent=2)"
   ]
  },
  {
   "cell_type": "code",
   "execution_count": null,
   "metadata": {},
   "outputs": [],
   "source": [
    "%%time\n",
    "if os.path.isfile('replies.json') and not os.stat('replies.json').st_size == 0:\n",
    "    logging.info('File replies.json already exists! Reading the file..')\n",
    "    file = open('replies.json', 'r', encoding='utf8')\n",
    "    replies = json.load(file)\n",
    "    file.close()\n",
    "else:\n",
    "    logging.info('Creating replies.json, collecting tweets..')\n",
    "    file = open('replies.json', 'w', encoding='utf8')\n",
    "    replies = []\n",
    "    collect_replies(tweets, file)\n",
    "    file.close()"
   ]
  },
  {
   "cell_type": "markdown",
   "metadata": {},
   "source": [
    "## Sentiment Analysis"
   ]
  },
  {
   "cell_type": "markdown",
   "metadata": {},
   "source": [
    "Now we'll calculate the sentiment intensity for each of Trump's tweets using VADER which is especially tailored to work with social media texts"
   ]
  },
  {
   "cell_type": "code",
   "execution_count": 17,
   "metadata": {},
   "outputs": [
    {
     "data": {
      "text/html": [
       "<div>\n",
       "<style scoped>\n",
       "    .dataframe tbody tr th:only-of-type {\n",
       "        vertical-align: middle;\n",
       "    }\n",
       "\n",
       "    .dataframe tbody tr th {\n",
       "        vertical-align: top;\n",
       "    }\n",
       "\n",
       "    .dataframe thead th {\n",
       "        text-align: right;\n",
       "    }\n",
       "</style>\n",
       "<table border=\"1\" class=\"dataframe\">\n",
       "  <thead>\n",
       "    <tr style=\"text-align: right;\">\n",
       "      <th></th>\n",
       "      <th>Text</th>\n",
       "      <th>len</th>\n",
       "      <th>id</th>\n",
       "      <th>Date</th>\n",
       "      <th>Likes</th>\n",
       "      <th>RTs</th>\n",
       "      <th>PERSON</th>\n",
       "      <th>GPE</th>\n",
       "      <th>CARDINAL</th>\n",
       "      <th>NORP</th>\n",
       "      <th>...</th>\n",
       "      <th>TIME</th>\n",
       "      <th>LAW</th>\n",
       "      <th>EVENT</th>\n",
       "      <th>WORK_OF_ART</th>\n",
       "      <th>FAC</th>\n",
       "      <th>QUANTITY</th>\n",
       "      <th>neg</th>\n",
       "      <th>neu</th>\n",
       "      <th>pos</th>\n",
       "      <th>compound</th>\n",
       "    </tr>\n",
       "  </thead>\n",
       "  <tbody>\n",
       "    <tr>\n",
       "      <th>0</th>\n",
       "      <td>Senator John Cornyn has done an outstanding jo...</td>\n",
       "      <td>231</td>\n",
       "      <td>1098676390780719104</td>\n",
       "      <td>2019-02-21</td>\n",
       "      <td>101024</td>\n",
       "      <td>21110</td>\n",
       "      <td>2.0</td>\n",
       "      <td>1.0</td>\n",
       "      <td>NaN</td>\n",
       "      <td>NaN</td>\n",
       "      <td>...</td>\n",
       "      <td>NaN</td>\n",
       "      <td>NaN</td>\n",
       "      <td>NaN</td>\n",
       "      <td>NaN</td>\n",
       "      <td>NaN</td>\n",
       "      <td>NaN</td>\n",
       "      <td>0.063</td>\n",
       "      <td>0.608</td>\n",
       "      <td>0.329</td>\n",
       "      <td>0.9425</td>\n",
       "    </tr>\n",
       "    <tr>\n",
       "      <th>1</th>\n",
       "      <td>.@JussieSmollett - what about MAGA and the ten...</td>\n",
       "      <td>130</td>\n",
       "      <td>1098615818512941057</td>\n",
       "      <td>2019-02-21</td>\n",
       "      <td>222426</td>\n",
       "      <td>56149</td>\n",
       "      <td>NaN</td>\n",
       "      <td>1.0</td>\n",
       "      <td>1.0</td>\n",
       "      <td>NaN</td>\n",
       "      <td>...</td>\n",
       "      <td>NaN</td>\n",
       "      <td>NaN</td>\n",
       "      <td>NaN</td>\n",
       "      <td>NaN</td>\n",
       "      <td>NaN</td>\n",
       "      <td>NaN</td>\n",
       "      <td>0.386</td>\n",
       "      <td>0.614</td>\n",
       "      <td>0.000</td>\n",
       "      <td>-0.8932</td>\n",
       "    </tr>\n",
       "    <tr>\n",
       "      <th>2</th>\n",
       "      <td>THE WALL IS UNDER CONSTRUCTION RIGHT NOW! http...</td>\n",
       "      <td>65</td>\n",
       "      <td>1098587583469228037</td>\n",
       "      <td>2019-02-21</td>\n",
       "      <td>134130</td>\n",
       "      <td>31597</td>\n",
       "      <td>NaN</td>\n",
       "      <td>NaN</td>\n",
       "      <td>NaN</td>\n",
       "      <td>NaN</td>\n",
       "      <td>...</td>\n",
       "      <td>NaN</td>\n",
       "      <td>NaN</td>\n",
       "      <td>NaN</td>\n",
       "      <td>NaN</td>\n",
       "      <td>NaN</td>\n",
       "      <td>NaN</td>\n",
       "      <td>0.000</td>\n",
       "      <td>1.000</td>\n",
       "      <td>0.000</td>\n",
       "      <td>0.0000</td>\n",
       "    </tr>\n",
       "    <tr>\n",
       "      <th>3</th>\n",
       "      <td>....something that is so obviously the future....</td>\n",
       "      <td>274</td>\n",
       "      <td>1098583029713420288</td>\n",
       "      <td>2019-02-21</td>\n",
       "      <td>125867</td>\n",
       "      <td>23394</td>\n",
       "      <td>NaN</td>\n",
       "      <td>1.0</td>\n",
       "      <td>NaN</td>\n",
       "      <td>NaN</td>\n",
       "      <td>...</td>\n",
       "      <td>NaN</td>\n",
       "      <td>NaN</td>\n",
       "      <td>NaN</td>\n",
       "      <td>NaN</td>\n",
       "      <td>NaN</td>\n",
       "      <td>NaN</td>\n",
       "      <td>0.000</td>\n",
       "      <td>0.702</td>\n",
       "      <td>0.298</td>\n",
       "      <td>0.9344</td>\n",
       "    </tr>\n",
       "    <tr>\n",
       "      <th>4</th>\n",
       "      <td>I want 5G, and even 6G, technology in the Unit...</td>\n",
       "      <td>279</td>\n",
       "      <td>1098581869233344512</td>\n",
       "      <td>2019-02-21</td>\n",
       "      <td>143746</td>\n",
       "      <td>28589</td>\n",
       "      <td>NaN</td>\n",
       "      <td>1.0</td>\n",
       "      <td>NaN</td>\n",
       "      <td>1.0</td>\n",
       "      <td>...</td>\n",
       "      <td>NaN</td>\n",
       "      <td>NaN</td>\n",
       "      <td>NaN</td>\n",
       "      <td>NaN</td>\n",
       "      <td>NaN</td>\n",
       "      <td>NaN</td>\n",
       "      <td>0.076</td>\n",
       "      <td>0.743</td>\n",
       "      <td>0.180</td>\n",
       "      <td>0.7089</td>\n",
       "    </tr>\n",
       "  </tbody>\n",
       "</table>\n",
       "<p>5 rows × 26 columns</p>\n",
       "</div>"
      ],
      "text/plain": [
       "                                                Text  len  \\\n",
       "0  Senator John Cornyn has done an outstanding jo...  231   \n",
       "1  .@JussieSmollett - what about MAGA and the ten...  130   \n",
       "2  THE WALL IS UNDER CONSTRUCTION RIGHT NOW! http...   65   \n",
       "3  ....something that is so obviously the future....  274   \n",
       "4  I want 5G, and even 6G, technology in the Unit...  279   \n",
       "\n",
       "                    id       Date   Likes    RTs  PERSON  GPE  CARDINAL  NORP  \\\n",
       "0  1098676390780719104 2019-02-21  101024  21110     2.0  1.0       NaN   NaN   \n",
       "1  1098615818512941057 2019-02-21  222426  56149     NaN  1.0       1.0   NaN   \n",
       "2  1098587583469228037 2019-02-21  134130  31597     NaN  NaN       NaN   NaN   \n",
       "3  1098583029713420288 2019-02-21  125867  23394     NaN  1.0       NaN   NaN   \n",
       "4  1098581869233344512 2019-02-21  143746  28589     NaN  1.0       NaN   1.0   \n",
       "\n",
       "     ...     TIME  LAW  EVENT  WORK_OF_ART  FAC  QUANTITY    neg    neu  \\\n",
       "0    ...      NaN  NaN    NaN          NaN  NaN       NaN  0.063  0.608   \n",
       "1    ...      NaN  NaN    NaN          NaN  NaN       NaN  0.386  0.614   \n",
       "2    ...      NaN  NaN    NaN          NaN  NaN       NaN  0.000  1.000   \n",
       "3    ...      NaN  NaN    NaN          NaN  NaN       NaN  0.000  0.702   \n",
       "4    ...      NaN  NaN    NaN          NaN  NaN       NaN  0.076  0.743   \n",
       "\n",
       "     pos  compound  \n",
       "0  0.329    0.9425  \n",
       "1  0.000   -0.8932  \n",
       "2  0.000    0.0000  \n",
       "3  0.298    0.9344  \n",
       "4  0.180    0.7089  \n",
       "\n",
       "[5 rows x 26 columns]"
      ]
     },
     "execution_count": 17,
     "metadata": {},
     "output_type": "execute_result"
    }
   ],
   "source": [
    "analyzer = SentimentIntensityAnalyzer()\n",
    "\n",
    "sentiment_intensity = df['Text'].apply(lambda s: analyzer.polarity_scores(s))\n",
    "sentiment_intensity = sentiment_intensity.apply(pd.Series)\n",
    "df = pd.concat([df, sentiment_intensity], axis=1)\n",
    "df.head()"
   ]
  },
  {
   "cell_type": "markdown",
   "metadata": {},
   "source": [
    "We mark the tweets as neutral/negative/positive based on the calculated sentiment intensity."
   ]
  },
  {
   "cell_type": "code",
   "execution_count": 18,
   "metadata": {},
   "outputs": [
    {
     "data": {
      "text/html": [
       "<div>\n",
       "<style scoped>\n",
       "    .dataframe tbody tr th:only-of-type {\n",
       "        vertical-align: middle;\n",
       "    }\n",
       "\n",
       "    .dataframe tbody tr th {\n",
       "        vertical-align: top;\n",
       "    }\n",
       "\n",
       "    .dataframe thead th {\n",
       "        text-align: right;\n",
       "    }\n",
       "</style>\n",
       "<table border=\"1\" class=\"dataframe\">\n",
       "  <thead>\n",
       "    <tr style=\"text-align: right;\">\n",
       "      <th></th>\n",
       "      <th>Text</th>\n",
       "      <th>len</th>\n",
       "      <th>id</th>\n",
       "      <th>Date</th>\n",
       "      <th>Likes</th>\n",
       "      <th>RTs</th>\n",
       "      <th>PERSON</th>\n",
       "      <th>GPE</th>\n",
       "      <th>CARDINAL</th>\n",
       "      <th>NORP</th>\n",
       "      <th>...</th>\n",
       "      <th>LAW</th>\n",
       "      <th>EVENT</th>\n",
       "      <th>WORK_OF_ART</th>\n",
       "      <th>FAC</th>\n",
       "      <th>QUANTITY</th>\n",
       "      <th>neg</th>\n",
       "      <th>neu</th>\n",
       "      <th>pos</th>\n",
       "      <th>compound</th>\n",
       "      <th>Sentiment</th>\n",
       "    </tr>\n",
       "  </thead>\n",
       "  <tbody>\n",
       "    <tr>\n",
       "      <th>0</th>\n",
       "      <td>Senator John Cornyn has done an outstanding jo...</td>\n",
       "      <td>231</td>\n",
       "      <td>1098676390780719104</td>\n",
       "      <td>2019-02-21</td>\n",
       "      <td>101024</td>\n",
       "      <td>21110</td>\n",
       "      <td>2.0</td>\n",
       "      <td>1.0</td>\n",
       "      <td>NaN</td>\n",
       "      <td>NaN</td>\n",
       "      <td>...</td>\n",
       "      <td>NaN</td>\n",
       "      <td>NaN</td>\n",
       "      <td>NaN</td>\n",
       "      <td>NaN</td>\n",
       "      <td>NaN</td>\n",
       "      <td>0.063</td>\n",
       "      <td>0.608</td>\n",
       "      <td>0.329</td>\n",
       "      <td>0.9425</td>\n",
       "      <td>positive</td>\n",
       "    </tr>\n",
       "    <tr>\n",
       "      <th>1</th>\n",
       "      <td>.@JussieSmollett - what about MAGA and the ten...</td>\n",
       "      <td>130</td>\n",
       "      <td>1098615818512941057</td>\n",
       "      <td>2019-02-21</td>\n",
       "      <td>222426</td>\n",
       "      <td>56149</td>\n",
       "      <td>NaN</td>\n",
       "      <td>1.0</td>\n",
       "      <td>1.0</td>\n",
       "      <td>NaN</td>\n",
       "      <td>...</td>\n",
       "      <td>NaN</td>\n",
       "      <td>NaN</td>\n",
       "      <td>NaN</td>\n",
       "      <td>NaN</td>\n",
       "      <td>NaN</td>\n",
       "      <td>0.386</td>\n",
       "      <td>0.614</td>\n",
       "      <td>0.000</td>\n",
       "      <td>-0.8932</td>\n",
       "      <td>negative</td>\n",
       "    </tr>\n",
       "    <tr>\n",
       "      <th>2</th>\n",
       "      <td>THE WALL IS UNDER CONSTRUCTION RIGHT NOW! http...</td>\n",
       "      <td>65</td>\n",
       "      <td>1098587583469228037</td>\n",
       "      <td>2019-02-21</td>\n",
       "      <td>134130</td>\n",
       "      <td>31597</td>\n",
       "      <td>NaN</td>\n",
       "      <td>NaN</td>\n",
       "      <td>NaN</td>\n",
       "      <td>NaN</td>\n",
       "      <td>...</td>\n",
       "      <td>NaN</td>\n",
       "      <td>NaN</td>\n",
       "      <td>NaN</td>\n",
       "      <td>NaN</td>\n",
       "      <td>NaN</td>\n",
       "      <td>0.000</td>\n",
       "      <td>1.000</td>\n",
       "      <td>0.000</td>\n",
       "      <td>0.0000</td>\n",
       "      <td>neutral</td>\n",
       "    </tr>\n",
       "    <tr>\n",
       "      <th>3</th>\n",
       "      <td>....something that is so obviously the future....</td>\n",
       "      <td>274</td>\n",
       "      <td>1098583029713420288</td>\n",
       "      <td>2019-02-21</td>\n",
       "      <td>125867</td>\n",
       "      <td>23394</td>\n",
       "      <td>NaN</td>\n",
       "      <td>1.0</td>\n",
       "      <td>NaN</td>\n",
       "      <td>NaN</td>\n",
       "      <td>...</td>\n",
       "      <td>NaN</td>\n",
       "      <td>NaN</td>\n",
       "      <td>NaN</td>\n",
       "      <td>NaN</td>\n",
       "      <td>NaN</td>\n",
       "      <td>0.000</td>\n",
       "      <td>0.702</td>\n",
       "      <td>0.298</td>\n",
       "      <td>0.9344</td>\n",
       "      <td>positive</td>\n",
       "    </tr>\n",
       "    <tr>\n",
       "      <th>4</th>\n",
       "      <td>I want 5G, and even 6G, technology in the Unit...</td>\n",
       "      <td>279</td>\n",
       "      <td>1098581869233344512</td>\n",
       "      <td>2019-02-21</td>\n",
       "      <td>143746</td>\n",
       "      <td>28589</td>\n",
       "      <td>NaN</td>\n",
       "      <td>1.0</td>\n",
       "      <td>NaN</td>\n",
       "      <td>1.0</td>\n",
       "      <td>...</td>\n",
       "      <td>NaN</td>\n",
       "      <td>NaN</td>\n",
       "      <td>NaN</td>\n",
       "      <td>NaN</td>\n",
       "      <td>NaN</td>\n",
       "      <td>0.076</td>\n",
       "      <td>0.743</td>\n",
       "      <td>0.180</td>\n",
       "      <td>0.7089</td>\n",
       "      <td>positive</td>\n",
       "    </tr>\n",
       "  </tbody>\n",
       "</table>\n",
       "<p>5 rows × 27 columns</p>\n",
       "</div>"
      ],
      "text/plain": [
       "                                                Text  len  \\\n",
       "0  Senator John Cornyn has done an outstanding jo...  231   \n",
       "1  .@JussieSmollett - what about MAGA and the ten...  130   \n",
       "2  THE WALL IS UNDER CONSTRUCTION RIGHT NOW! http...   65   \n",
       "3  ....something that is so obviously the future....  274   \n",
       "4  I want 5G, and even 6G, technology in the Unit...  279   \n",
       "\n",
       "                    id       Date   Likes    RTs  PERSON  GPE  CARDINAL  NORP  \\\n",
       "0  1098676390780719104 2019-02-21  101024  21110     2.0  1.0       NaN   NaN   \n",
       "1  1098615818512941057 2019-02-21  222426  56149     NaN  1.0       1.0   NaN   \n",
       "2  1098587583469228037 2019-02-21  134130  31597     NaN  NaN       NaN   NaN   \n",
       "3  1098583029713420288 2019-02-21  125867  23394     NaN  1.0       NaN   NaN   \n",
       "4  1098581869233344512 2019-02-21  143746  28589     NaN  1.0       NaN   1.0   \n",
       "\n",
       "     ...      LAW  EVENT  WORK_OF_ART  FAC  QUANTITY    neg    neu    pos  \\\n",
       "0    ...      NaN    NaN          NaN  NaN       NaN  0.063  0.608  0.329   \n",
       "1    ...      NaN    NaN          NaN  NaN       NaN  0.386  0.614  0.000   \n",
       "2    ...      NaN    NaN          NaN  NaN       NaN  0.000  1.000  0.000   \n",
       "3    ...      NaN    NaN          NaN  NaN       NaN  0.000  0.702  0.298   \n",
       "4    ...      NaN    NaN          NaN  NaN       NaN  0.076  0.743  0.180   \n",
       "\n",
       "   compound  Sentiment  \n",
       "0    0.9425   positive  \n",
       "1   -0.8932   negative  \n",
       "2    0.0000    neutral  \n",
       "3    0.9344   positive  \n",
       "4    0.7089   positive  \n",
       "\n",
       "[5 rows x 27 columns]"
      ]
     },
     "execution_count": 18,
     "metadata": {},
     "output_type": "execute_result"
    }
   ],
   "source": [
    "df.loc[(df['compound'] > -.05) &\n",
    "       (df['compound'] < .05), 'Sentiment'] = 'neutral'\n",
    "df.loc[df['compound'] <= -.05, 'Sentiment'] = 'negative'\n",
    "df.loc[df['compound'] >= .05, 'Sentiment'] = 'positive'\n",
    "df.head()"
   ]
  },
  {
   "cell_type": "markdown",
   "metadata": {},
   "source": [
    "Now lets take a look at the count and distribution of positive/negative tweets based on these marks."
   ]
  },
  {
   "cell_type": "code",
   "execution_count": 19,
   "metadata": {},
   "outputs": [
    {
     "data": {
      "text/plain": [
       "Counter({'positive': 299, 'negative': 212, 'neutral': 50})"
      ]
     },
     "execution_count": 19,
     "metadata": {},
     "output_type": "execute_result"
    }
   ],
   "source": [
    "Counter(df['Sentiment'])"
   ]
  },
  {
   "cell_type": "code",
   "execution_count": 102,
   "metadata": {},
   "outputs": [
    {
     "data": {
      "text/plain": [
       "Text(0.5, 1.0, \"Trump's tweets\")"
      ]
     },
     "execution_count": 102,
     "metadata": {},
     "output_type": "execute_result"
    },
    {
     "data": {
      "image/png": "[encoded data removed]",
      "text/plain": [
       "<Figure size 864x576 with 1 Axes>"
      ]
     },
     "metadata": {},
     "output_type": "display_data"
    }
   ],
   "source": [
    "sns.countplot(df['Sentiment'])\n",
    "plt.xlabel('Sentiment intensity')\n",
    "plt.ylabel('Number of tweets')\n",
    "plt.title('Trump\\'s tweets')"
   ]
  },
  {
   "cell_type": "markdown",
   "metadata": {},
   "source": [
    "## Correlation with approval ratings\n",
    "Approval ratings data from https://projects.fivethirtyeight.com/trump-approval-ratings/"
   ]
  },
  {
   "cell_type": "code",
   "execution_count": 180,
   "metadata": {},
   "outputs": [
    {
     "data": {
      "text/html": [
       "<div>\n",
       "<style scoped>\n",
       "    .dataframe tbody tr th:only-of-type {\n",
       "        vertical-align: middle;\n",
       "    }\n",
       "\n",
       "    .dataframe tbody tr th {\n",
       "        vertical-align: top;\n",
       "    }\n",
       "\n",
       "    .dataframe thead th {\n",
       "        text-align: right;\n",
       "    }\n",
       "</style>\n",
       "<table border=\"1\" class=\"dataframe\">\n",
       "  <thead>\n",
       "    <tr style=\"text-align: right;\">\n",
       "      <th></th>\n",
       "      <th>Rating</th>\n",
       "    </tr>\n",
       "  </thead>\n",
       "  <tbody>\n",
       "    <tr>\n",
       "      <th>2018-12-18</th>\n",
       "      <td>52.3</td>\n",
       "    </tr>\n",
       "    <tr>\n",
       "      <th>2018-12-19</th>\n",
       "      <td>52.4</td>\n",
       "    </tr>\n",
       "    <tr>\n",
       "      <th>2018-12-20</th>\n",
       "      <td>52.6</td>\n",
       "    </tr>\n",
       "    <tr>\n",
       "      <th>2018-12-21</th>\n",
       "      <td>52.7</td>\n",
       "    </tr>\n",
       "    <tr>\n",
       "      <th>2018-12-22</th>\n",
       "      <td>52.8</td>\n",
       "    </tr>\n",
       "    <tr>\n",
       "      <th>2018-12-23</th>\n",
       "      <td>52.8</td>\n",
       "    </tr>\n",
       "    <tr>\n",
       "      <th>2018-12-24</th>\n",
       "      <td>52.9</td>\n",
       "    </tr>\n",
       "    <tr>\n",
       "      <th>2018-12-25</th>\n",
       "      <td>53.0</td>\n",
       "    </tr>\n",
       "    <tr>\n",
       "      <th>2018-12-26</th>\n",
       "      <td>53.3</td>\n",
       "    </tr>\n",
       "    <tr>\n",
       "      <th>2018-12-27</th>\n",
       "      <td>53.2</td>\n",
       "    </tr>\n",
       "  </tbody>\n",
       "</table>\n",
       "</div>"
      ],
      "text/plain": [
       "            Rating\n",
       "2018-12-18    52.3\n",
       "2018-12-19    52.4\n",
       "2018-12-20    52.6\n",
       "2018-12-21    52.7\n",
       "2018-12-22    52.8\n",
       "2018-12-23    52.8\n",
       "2018-12-24    52.9\n",
       "2018-12-25    53.0\n",
       "2018-12-26    53.3\n",
       "2018-12-27    53.2"
      ]
     },
     "execution_count": 180,
     "metadata": {},
     "output_type": "execute_result"
    }
   ],
   "source": [
    "# disapproval rating\n",
    "rating = [\n",
    "    52.3, 52.4, 52.6, 52.7, 52.8, 52.8, 52.9, 53, 53.3, 53.2, 53.2, 53.3, 53.4,\n",
    "    53.4, 53.4, 53.5, 53.4, 53.4, 53.5, 53.5, 53.6, 53.8, 53.8, 53.9, 53.9,\n",
    "    53.9, 54.3, 54.4, 54.5, 54.9, 55.2, 55.2, 55.2, 55.2, 55.3, 55.0, 55.9,\n",
    "    55.9, 56, 56, 56, 55.9, 55.8, 55.9, 55.9, 55.9, 55.9, 56, 55.7, 55.6, 55.4,\n",
    "    55.3, 55.1, 55.1, 55.1, 55.1, 54.9, 54.1, 54.1, 54.0, 53.7, 53.7, 53.8,\n",
    "    53.6, 53.6, 53.2, 53\n",
    "]\n",
    "\n",
    "# approval rating\n",
    "rating = [100 - x for x in rating]\n",
    "\n",
    "dates = pd.date_range(start_date, end_date)\n",
    "\n",
    "df_rating = pd.DataFrame(rating, index=dates, columns=['Rating'])\n",
    "df_rating.head(10)"
   ]
  },
  {
   "cell_type": "code",
   "execution_count": 41,
   "metadata": {},
   "outputs": [],
   "source": [
    "scatter_data = pd.DataFrame({'Date': df['Date'], 'Rate': 45, 'Sentiment': df['Sentiment']})\n",
    "scatter_data.loc[scatter_data['Sentiment'] == 'negative', 'Rate'] = 45\n",
    "scatter_data.loc[scatter_data['Sentiment'] == 'positive', 'Rate'] = 45.5\n",
    "scatter_data.loc[scatter_data['Sentiment'] == 'neutral', 'Rate'] = 44.5"
   ]
  },
  {
   "cell_type": "code",
   "execution_count": 101,
   "metadata": {},
   "outputs": [
    {
     "data": {
      "text/plain": [
       "Text(0.5, 1.0, \"Donald Trump's daily approval rate\")"
      ]
     },
     "execution_count": 101,
     "metadata": {},
     "output_type": "execute_result"
    },
    {
     "data": {
      "image/png": "[encoded data removed]",
      "text/plain": [
       "<Figure size 761.565x648 with 1 Axes>"
      ]
     },
     "metadata": {},
     "output_type": "display_data"
    }
   ],
   "source": [
    "# sns.lineplot(df_rating.index, df_rating.Rating)\n",
    "fig = sns.FacetGrid(data=scatter_data, hue='Sentiment', height=9)\n",
    "fig.map(plt.scatter, 'Date', 'Rate').add_legend()\n",
    "fig.axes[0, 0].plot(df_rating.index, df_rating.Rating)\n",
    "plt.xticks(ticks=[df_rating.index[0], df_rating.index[-1]], labels=['18 Dec 2018', '22 Feb 2019'], rotation=60)\n",
    "plt.xlim(df_rating.index[0], df_rating.index[-1])\n",
    "plt.title('Donald Trump\\'s daily approval rate')"
   ]
  },
  {
   "cell_type": "code",
   "execution_count": 134,
   "metadata": {},
   "outputs": [
    {
     "data": {
      "text/html": [
       "<div>\n",
       "<style scoped>\n",
       "    .dataframe tbody tr th:only-of-type {\n",
       "        vertical-align: middle;\n",
       "    }\n",
       "\n",
       "    .dataframe tbody tr th {\n",
       "        vertical-align: top;\n",
       "    }\n",
       "\n",
       "    .dataframe thead th {\n",
       "        text-align: right;\n",
       "    }\n",
       "</style>\n",
       "<table border=\"1\" class=\"dataframe\">\n",
       "  <thead>\n",
       "    <tr style=\"text-align: right;\">\n",
       "      <th>Sentiment</th>\n",
       "      <th>negative</th>\n",
       "      <th>neutral</th>\n",
       "      <th>positive</th>\n",
       "    </tr>\n",
       "    <tr>\n",
       "      <th>Date</th>\n",
       "      <th></th>\n",
       "      <th></th>\n",
       "      <th></th>\n",
       "    </tr>\n",
       "  </thead>\n",
       "  <tbody>\n",
       "    <tr>\n",
       "      <th>2018-12-18</th>\n",
       "      <td>5.0</td>\n",
       "      <td>NaN</td>\n",
       "      <td>4.0</td>\n",
       "    </tr>\n",
       "    <tr>\n",
       "      <th>2018-12-19</th>\n",
       "      <td>4.0</td>\n",
       "      <td>NaN</td>\n",
       "      <td>8.0</td>\n",
       "    </tr>\n",
       "    <tr>\n",
       "      <th>2018-12-20</th>\n",
       "      <td>6.0</td>\n",
       "      <td>1.0</td>\n",
       "      <td>9.0</td>\n",
       "    </tr>\n",
       "    <tr>\n",
       "      <th>2018-12-21</th>\n",
       "      <td>5.0</td>\n",
       "      <td>4.0</td>\n",
       "      <td>11.0</td>\n",
       "    </tr>\n",
       "    <tr>\n",
       "      <th>2018-12-22</th>\n",
       "      <td>2.0</td>\n",
       "      <td>2.0</td>\n",
       "      <td>5.0</td>\n",
       "    </tr>\n",
       "  </tbody>\n",
       "</table>\n",
       "</div>"
      ],
      "text/plain": [
       "Sentiment   negative  neutral  positive\n",
       "Date                                   \n",
       "2018-12-18       5.0      NaN       4.0\n",
       "2018-12-19       4.0      NaN       8.0\n",
       "2018-12-20       6.0      1.0       9.0\n",
       "2018-12-21       5.0      4.0      11.0\n",
       "2018-12-22       2.0      2.0       5.0"
      ]
     },
     "execution_count": 134,
     "metadata": {},
     "output_type": "execute_result"
    }
   ],
   "source": [
    "df_plot = df.groupby(['Sentiment', 'Date']).size().reset_index().pivot(columns='Sentiment', index='Date', values=0)\n",
    "# df_plot['negative'] = df_plot['negative'] + 27\n",
    "# df_plot['neutral'] = df_plot['neutral'] + 27\n",
    "# df_plot['positive'] = df_plot['positive'] + 27\n",
    "df_plot.head()"
   ]
  },
  {
   "cell_type": "code",
   "execution_count": 135,
   "metadata": {},
   "outputs": [
    {
     "data": {
      "text/html": [
       "<div>\n",
       "<style scoped>\n",
       "    .dataframe tbody tr th:only-of-type {\n",
       "        vertical-align: middle;\n",
       "    }\n",
       "\n",
       "    .dataframe tbody tr th {\n",
       "        vertical-align: top;\n",
       "    }\n",
       "\n",
       "    .dataframe thead th {\n",
       "        text-align: right;\n",
       "    }\n",
       "</style>\n",
       "<table border=\"1\" class=\"dataframe\">\n",
       "  <thead>\n",
       "    <tr style=\"text-align: right;\">\n",
       "      <th>Sentiment</th>\n",
       "      <th>positive</th>\n",
       "      <th>negative</th>\n",
       "      <th>neutral</th>\n",
       "    </tr>\n",
       "    <tr>\n",
       "      <th>Date</th>\n",
       "      <th></th>\n",
       "      <th></th>\n",
       "      <th></th>\n",
       "    </tr>\n",
       "  </thead>\n",
       "  <tbody>\n",
       "    <tr>\n",
       "      <th>2018-12-18</th>\n",
       "      <td>4.0</td>\n",
       "      <td>5.0</td>\n",
       "      <td>NaN</td>\n",
       "    </tr>\n",
       "    <tr>\n",
       "      <th>2018-12-19</th>\n",
       "      <td>8.0</td>\n",
       "      <td>4.0</td>\n",
       "      <td>NaN</td>\n",
       "    </tr>\n",
       "    <tr>\n",
       "      <th>2018-12-20</th>\n",
       "      <td>9.0</td>\n",
       "      <td>6.0</td>\n",
       "      <td>1.0</td>\n",
       "    </tr>\n",
       "    <tr>\n",
       "      <th>2018-12-21</th>\n",
       "      <td>11.0</td>\n",
       "      <td>5.0</td>\n",
       "      <td>4.0</td>\n",
       "    </tr>\n",
       "    <tr>\n",
       "      <th>2018-12-22</th>\n",
       "      <td>5.0</td>\n",
       "      <td>2.0</td>\n",
       "      <td>2.0</td>\n",
       "    </tr>\n",
       "  </tbody>\n",
       "</table>\n",
       "</div>"
      ],
      "text/plain": [
       "Sentiment   positive  negative  neutral\n",
       "Date                                   \n",
       "2018-12-18       4.0       5.0      NaN\n",
       "2018-12-19       8.0       4.0      NaN\n",
       "2018-12-20       9.0       6.0      1.0\n",
       "2018-12-21      11.0       5.0      4.0\n",
       "2018-12-22       5.0       2.0      2.0"
      ]
     },
     "execution_count": 135,
     "metadata": {},
     "output_type": "execute_result"
    }
   ],
   "source": [
    "df_plot = df_plot[['positive', 'negative', 'neutral']]\n",
    "df_plot.head()"
   ]
  },
  {
   "cell_type": "code",
   "execution_count": 99,
   "metadata": {},
   "outputs": [
    {
     "data": {
      "text/plain": [
       "Text(0.5, 1.0, \"Donald Trump's daily approval rate\")"
      ]
     },
     "execution_count": 99,
     "metadata": {},
     "output_type": "execute_result"
    },
    {
     "data": {
      "image/png": "[encoded data removed]",
      "text/plain": [
       "<Figure size 864x576 with 1 Axes>"
      ]
     },
     "metadata": {},
     "output_type": "display_data"
    }
   ],
   "source": [
    "df_rating.plot(style='--r')\n",
    "plt.xticks(ticks=[df_rating.index[0], df_rating.index[-1]], labels=['18 Dec 2018', '22 Feb 2019'], rotation=60)\n",
    "plt.xlim(df_rating.index[0], df_rating.index[-1])\n",
    "sns.set_style('white')\n",
    "plt.title('Donald Trump\\'s daily approval rate')"
   ]
  },
  {
   "cell_type": "code",
   "execution_count": 163,
   "metadata": {},
   "outputs": [
    {
     "data": {
      "image/png": "[encoded data removed]",
      "text/plain": [
       "<Figure size 864x576 with 1 Axes>"
      ]
     },
     "metadata": {},
     "output_type": "display_data"
    }
   ],
   "source": [
    "df_plot.plot(kind='bar', stacked=True)\n",
    "sns.set(style='whitegrid', font_scale=1.4, palette='Set2', rc={\"figure.figsize\": [12, 8]})\n",
    "plt.tick_params(\n",
    "    axis='x',          # changes apply to the x-axis\n",
    "    which='both',      # both major and minor ticks are affected\n",
    "    bottom=False,      # ticks along the bottom edge are off\n",
    "    top=False,         # ticks along the top edge are off\n",
    "    labelbottom=False)"
   ]
  },
  {
   "cell_type": "code",
   "execution_count": 178,
   "metadata": {},
   "outputs": [
    {
     "data": {
      "text/plain": [
       "Text(0.5, 1.0, \"Trump's negative tweets daily\")"
      ]
     },
     "execution_count": 178,
     "metadata": {},
     "output_type": "execute_result"
    },
    {
     "data": {
      "image/png": "[encoded data removed]",
      "text/plain": [
       "<Figure size 864x576 with 1 Axes>"
      ]
     },
     "metadata": {},
     "output_type": "display_data"
    }
   ],
   "source": [
    "df_plot['negative'].plot(kind='bar', color=sns.color_palette()[1])\n",
    "plt.tick_params(\n",
    "    axis='x',          # changes apply to the x-axis\n",
    "    which='both',      # both major and minor ticks are affected\n",
    "    bottom=False,      # ticks along the bottom edge are off\n",
    "    top=False,         # ticks along the top edge are off\n",
    "    labelbottom=False)\n",
    "plt.legend()\n",
    "plt.ylim(0, 13)\n",
    "plt.title('Trump\\'s negative tweets daily')"
   ]
  },
  {
   "cell_type": "code",
   "execution_count": 179,
   "metadata": {},
   "outputs": [
    {
     "data": {
      "text/plain": [
       "Text(0.5, 1.0, \"Trump's positive tweets daily\")"
      ]
     },
     "execution_count": 179,
     "metadata": {},
     "output_type": "execute_result"
    },
    {
     "data": {
      "image/png": "[encoded data removed]",
      "text/plain": [
       "<Figure size 864x576 with 1 Axes>"
      ]
     },
     "metadata": {},
     "output_type": "display_data"
    }
   ],
   "source": [
    "df_plot['positive'].plot(kind='bar', color=sns.color_palette()[0])\n",
    "plt.tick_params(\n",
    "    axis='x',          # changes apply to the x-axis\n",
    "    which='both',      # both major and minor ticks are affected\n",
    "    bottom=False,      # ticks along the bottom edge are off\n",
    "    top=False,         # ticks along the top edge are off\n",
    "    labelbottom=False)\n",
    "plt.legend()\n",
    "plt.title('Trump\\'s positive tweets daily')"
   ]
  }
 ],
 "metadata": {
  "kernelspec": {
   "display_name": "Python 3",
   "language": "python",
   "name": "python3"
  },
  "language_info": {
   "codemirror_mode": {
    "name": "ipython",
    "version": 3
   },
   "file_extension": ".py",
   "mimetype": "text/x-python",
   "name": "python",
   "nbconvert_exporter": "python",
   "pygments_lexer": "ipython3",
   "version": "3.7.2"
  }
 },
 "nbformat": 4,
 "nbformat_minor": 2
}
